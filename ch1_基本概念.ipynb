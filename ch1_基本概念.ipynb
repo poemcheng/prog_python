{
 "cells": [
  {
   "cell_type": "markdown",
   "id": "e2c882cc",
   "metadata": {},
   "source": [
    "智慧醫療AI應用技術人才養成班\n",
    "第一章練習\n",
    "列印的練習\n",
    "print()函數功能的練習"
   ]
  },
  {
   "cell_type": "code",
   "execution_count": 2,
   "id": "11ec89db",
   "metadata": {
    "scrolled": true
   },
   "outputs": [
    {
     "name": "stdout",
     "output_type": "stream",
     "text": [
      "Hello! Python\n"
     ]
    }
   ],
   "source": [
    "print('Hello! Python')"
   ]
  },
  {
   "cell_type": "markdown",
   "id": "ab0487f2",
   "metadata": {},
   "source": []
  },
  {
   "cell_type": "code",
   "execution_count": 2,
   "id": "8e689226",
   "metadata": {},
   "outputs": [
    {
     "name": "stdout",
     "output_type": "stream",
     "text": [
      "Hello! Python\n"
     ]
    }
   ],
   "source": [
    "# ch1_2.py\n",
    "print(\"Hello! Python\")   # 列印字串"
   ]
  },
  {
   "cell_type": "code",
   "execution_count": 11,
   "id": "20be8922",
   "metadata": {},
   "outputs": [
    {
     "name": "stdout",
     "output_type": "stream",
     "text": [
      "Hello! Python\n"
     ]
    }
   ],
   "source": [
    "'''\n",
    "程式實例ch1_3.py\n",
    "作者:POEM\n",
    "使用三個單引號當作註解\n",
    "'''\n",
    "print(\"Hello! Python\")   # 列印字串"
   ]
  },
  {
   "cell_type": "code",
   "execution_count": 12,
   "id": "e4ea0b46",
   "metadata": {},
   "outputs": [
    {
     "name": "stdout",
     "output_type": "stream",
     "text": [
      "Hello! Python\n"
     ]
    }
   ],
   "source": [
    "\"\"\"\n",
    "程式實例ch1_4.py\n",
    "作者:POEM\n",
    "使用三個雙引號當作註解\n",
    "\"\"\"\n",
    "print(\"Hello! Python\")   # 列印字串"
   ]
  },
  {
   "cell_type": "markdown",
   "id": "3562a782",
   "metadata": {},
   "source": [
    "# 智慧醫療AI應用技術人才養成班\n",
    "## Python程式設計實務\n",
    "### 第一天的練習(上午)\n",
    "# 哈囉\n",
    "- CH1 基本觀念\n",
    "- CH2 認識變數與基本數學運算\n",
    "- CH3 Python的基本資料型態\n",
    "\n",
    "- CH22 機器學習最基礎觀念\n",
    "\n",
    "\n",
    "![書本照片](ch1.JPG)\n",
    "\n",
    "![544444](ch1.JPG)\n",
    "$$\\sum_{i=1}^n a_i=0$$\n",
    "\n",
    "\n",
    "![放入練習題照片](ch2_1.jpg)\n",
    "\n",
    "\n"
   ]
  },
  {
   "cell_type": "code",
   "execution_count": 8,
   "id": "c827d49b",
   "metadata": {},
   "outputs": [],
   "source": [
    "#希臘字母\n",
    "# \\alpha\n",
    "# \\beta\n",
    "# \\gamma\n",
    "# \\theta\n"
   ]
  },
  {
   "cell_type": "markdown",
   "id": "03160e5f",
   "metadata": {},
   "source": [
    "### 常用的 conda 指令\n",
    "### conda env list: 查看目前已經有哪些虛擬環境存在了。\n",
    "### conda create --name myenv python=3.6 : 創建一個新的虛擬環境並指定安裝 python 3.6 版\n",
    "### conda activate myenv : 啟用 myenv 這個虛擬環境\n",
    "### conda list: 看看這個環境裡裝了那些套件\n",
    "### conda install numpy: 安裝 numpy 套件\n",
    "### conda remove --name myenv numpy : 刪除某個套件\n",
    "### conda deactivate: 離開虛擬環境\n",
    "### conda env remove --name myenv: 刪除整個虛擬環境"
   ]
  },
  {
   "cell_type": "markdown",
   "id": "05f47a93",
   "metadata": {},
   "source": [
    "- 第一天課程訓練\n",
    "    - 練習jupyter notebook\n",
    "- 第二天課程訓練\n",
    "- 第三天課程訓練\n"
   ]
  },
  {
   "cell_type": "markdown",
   "id": "3cf77a24",
   "metadata": {},
   "source": [
    "![放入練習題照片](ch2_1.jpg)"
   ]
  },
  {
   "cell_type": "code",
   "execution_count": 4,
   "id": "c2c90af9",
   "metadata": {},
   "outputs": [],
   "source": [
    "hourly_salary = 123"
   ]
  },
  {
   "cell_type": "code",
   "execution_count": null,
   "id": "2179f53d",
   "metadata": {},
   "outputs": [],
   "source": []
  }
 ],
 "metadata": {
  "kernelspec": {
   "display_name": "Python 3",
   "language": "python",
   "name": "python3"
  },
  "language_info": {
   "codemirror_mode": {
    "name": "ipython",
    "version": 3
   },
   "file_extension": ".py",
   "mimetype": "text/x-python",
   "name": "python",
   "nbconvert_exporter": "python",
   "pygments_lexer": "ipython3",
   "version": "3.7.6"
  }
 },
 "nbformat": 4,
 "nbformat_minor": 5
}
